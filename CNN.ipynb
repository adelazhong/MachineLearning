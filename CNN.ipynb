{
 "cells": [
  {
   "cell_type": "code",
   "execution_count": 2,
   "metadata": {},
   "outputs": [
    {
     "name": "stderr",
     "output_type": "stream",
     "text": [
      "/Users/yingzhong/anaconda3/lib/python3.6/site-packages/h5py/__init__.py:36: FutureWarning: Conversion of the second argument of issubdtype from `float` to `np.floating` is deprecated. In future, it will be treated as `np.float64 == np.dtype(float).type`.\n",
      "  from ._conv import register_converters as _register_converters\n"
     ]
    },
    {
     "name": "stdout",
     "output_type": "stream",
     "text": [
      "1.13.1\n"
     ]
    }
   ],
   "source": [
    "from __future__ import absolute_import, division, print_function, unicode_literals\n",
    "\n",
    "try:\n",
    "  # Colab only\n",
    "  %tensorflow_version 2.x\n",
    "except Exception:\n",
    "    pass\n",
    "import tensorflow as tf\n",
    "from tensorflow import keras\n",
    "\n",
    "import numpy as np\n",
    "\n",
    "print(tf.__version__)"
   ]
  },
  {
   "cell_type": "code",
   "execution_count": 3,
   "metadata": {},
   "outputs": [],
   "source": [
    "imdb = keras.datasets.imdb\n",
    "\n",
    "(train_data, train_labels), (test_data, test_labels) = imdb.load_data(num_words=10000)"
   ]
  },
  {
   "cell_type": "code",
   "execution_count": 4,
   "metadata": {},
   "outputs": [
    {
     "name": "stdout",
     "output_type": "stream",
     "text": [
      "Training entries: 25000, labels: 25000\n"
     ]
    }
   ],
   "source": [
    "print(\"Training entries: {}, labels: {}\".format(len(train_data), len(train_labels)))"
   ]
  },
  {
   "cell_type": "code",
   "execution_count": 5,
   "metadata": {},
   "outputs": [
    {
     "name": "stdout",
     "output_type": "stream",
     "text": [
      "[1, 14, 22, 16, 43, 530, 973, 1622, 1385, 65, 458, 4468, 66, 3941, 4, 173, 36, 256, 5, 25, 100, 43, 838, 112, 50, 670, 2, 9, 35, 480, 284, 5, 150, 4, 172, 112, 167, 2, 336, 385, 39, 4, 172, 4536, 1111, 17, 546, 38, 13, 447, 4, 192, 50, 16, 6, 147, 2025, 19, 14, 22, 4, 1920, 4613, 469, 4, 22, 71, 87, 12, 16, 43, 530, 38, 76, 15, 13, 1247, 4, 22, 17, 515, 17, 12, 16, 626, 18, 2, 5, 62, 386, 12, 8, 316, 8, 106, 5, 4, 2223, 5244, 16, 480, 66, 3785, 33, 4, 130, 12, 16, 38, 619, 5, 25, 124, 51, 36, 135, 48, 25, 1415, 33, 6, 22, 12, 215, 28, 77, 52, 5, 14, 407, 16, 82, 2, 8, 4, 107, 117, 5952, 15, 256, 4, 2, 7, 3766, 5, 723, 36, 71, 43, 530, 476, 26, 400, 317, 46, 7, 4, 2, 1029, 13, 104, 88, 4, 381, 15, 297, 98, 32, 2071, 56, 26, 141, 6, 194, 7486, 18, 4, 226, 22, 21, 134, 476, 26, 480, 5, 144, 30, 5535, 18, 51, 36, 28, 224, 92, 25, 104, 4, 226, 65, 16, 38, 1334, 88, 12, 16, 283, 5, 16, 4472, 113, 103, 32, 15, 16, 5345, 19, 178, 32]\n"
     ]
    }
   ],
   "source": [
    "print(train_data[0])"
   ]
  },
  {
   "cell_type": "code",
   "execution_count": 6,
   "metadata": {},
   "outputs": [
    {
     "name": "stdout",
     "output_type": "stream",
     "text": [
      "[1 0 0 1 0 0 1 0 1 0]\n"
     ]
    }
   ],
   "source": [
    "print(train_labels[:10])"
   ]
  },
  {
   "cell_type": "code",
   "execution_count": 7,
   "metadata": {},
   "outputs": [
    {
     "data": {
      "text/plain": [
       "(218, 189)"
      ]
     },
     "execution_count": 7,
     "metadata": {},
     "output_type": "execute_result"
    }
   ],
   "source": [
    "len(train_data[0]), len(train_data[1])"
   ]
  },
  {
   "cell_type": "code",
   "execution_count": 8,
   "metadata": {},
   "outputs": [],
   "source": [
    "# 一个映射单词到整数索引的词典\n",
    "word_index = imdb.get_word_index()\n",
    "\n",
    "# 保留第一个索引\n",
    "word_index = {k:(v+3) for k,v in word_index.items()}\n",
    "word_index[\"<PAD>\"] = 0\n",
    "word_index[\"<START>\"] = 1\n",
    "word_index[\"<UNK>\"] = 2  # unknown\n",
    "word_index[\"<UNUSED>\"] = 3\n",
    "\n",
    "reverse_word_index = dict([(value, key) for (key, value) in word_index.items()])\n",
    "\n",
    "def decode_review(text):\n",
    "    return ' '.join([reverse_word_index.get(i, '?') for i in text])"
   ]
  },
  {
   "cell_type": "code",
   "execution_count": 9,
   "metadata": {},
   "outputs": [
    {
     "data": {
      "text/plain": [
       "\"<START> this film was just brilliant casting location scenery story direction everyone's really suited the part they played and you could just imagine being there robert <UNK> is an amazing actor and now the same being director <UNK> father came from the same scottish island as myself so i loved the fact there was a real connection with this film the witty remarks throughout the film were great it was just brilliant so much that i bought the film as soon as it was released for <UNK> and would recommend it to everyone to watch and the fly fishing was amazing really cried at the end it was so sad and you know what they say if you cry at a film it must have been good and this definitely was also <UNK> to the two little boy's that played the <UNK> of norman and paul they were just brilliant children are often left out of the <UNK> list i think because the stars that play them all grown up are such a big profile for the whole film but these children are amazing and should be praised for what they have done don't you think the whole story was so lovely because it was true and was someone's life after all that was shared with us all\""
      ]
     },
     "execution_count": 9,
     "metadata": {},
     "output_type": "execute_result"
    }
   ],
   "source": [
    "decode_review(train_data[0])"
   ]
  },
  {
   "cell_type": "code",
   "execution_count": 10,
   "metadata": {},
   "outputs": [],
   "source": [
    "train_data = keras.preprocessing.sequence.pad_sequences(train_data,\n",
    "                                                        value=word_index[\"<PAD>\"],\n",
    "                                                        padding='post',\n",
    "                                                        maxlen=256)\n",
    "\n",
    "test_data = keras.preprocessing.sequence.pad_sequences(test_data,\n",
    "                                                       value=word_index[\"<PAD>\"],\n",
    "                                                       padding='post',\n",
    "                                                       maxlen=256)"
   ]
  },
  {
   "cell_type": "code",
   "execution_count": 11,
   "metadata": {},
   "outputs": [
    {
     "data": {
      "text/plain": [
       "(256, 256)"
      ]
     },
     "execution_count": 11,
     "metadata": {},
     "output_type": "execute_result"
    }
   ],
   "source": [
    "len(train_data[0]), len(train_data[1])"
   ]
  },
  {
   "cell_type": "code",
   "execution_count": 12,
   "metadata": {},
   "outputs": [
    {
     "name": "stdout",
     "output_type": "stream",
     "text": [
      "[   1   14   22   16   43  530  973 1622 1385   65  458 4468   66 3941\n",
      "    4  173   36  256    5   25  100   43  838  112   50  670    2    9\n",
      "   35  480  284    5  150    4  172  112  167    2  336  385   39    4\n",
      "  172 4536 1111   17  546   38   13  447    4  192   50   16    6  147\n",
      " 2025   19   14   22    4 1920 4613  469    4   22   71   87   12   16\n",
      "   43  530   38   76   15   13 1247    4   22   17  515   17   12   16\n",
      "  626   18    2    5   62  386   12    8  316    8  106    5    4 2223\n",
      " 5244   16  480   66 3785   33    4  130   12   16   38  619    5   25\n",
      "  124   51   36  135   48   25 1415   33    6   22   12  215   28   77\n",
      "   52    5   14  407   16   82    2    8    4  107  117 5952   15  256\n",
      "    4    2    7 3766    5  723   36   71   43  530  476   26  400  317\n",
      "   46    7    4    2 1029   13  104   88    4  381   15  297   98   32\n",
      " 2071   56   26  141    6  194 7486   18    4  226   22   21  134  476\n",
      "   26  480    5  144   30 5535   18   51   36   28  224   92   25  104\n",
      "    4  226   65   16   38 1334   88   12   16  283    5   16 4472  113\n",
      "  103   32   15   16 5345   19  178   32    0    0    0    0    0    0\n",
      "    0    0    0    0    0    0    0    0    0    0    0    0    0    0\n",
      "    0    0    0    0    0    0    0    0    0    0    0    0    0    0\n",
      "    0    0    0    0]\n"
     ]
    }
   ],
   "source": [
    "print(train_data[0])"
   ]
  },
  {
   "cell_type": "code",
   "execution_count": 13,
   "metadata": {},
   "outputs": [
    {
     "name": "stdout",
     "output_type": "stream",
     "text": [
      "WARNING:tensorflow:From /Users/yingzhong/anaconda3/lib/python3.6/site-packages/tensorflow/python/ops/resource_variable_ops.py:435: colocate_with (from tensorflow.python.framework.ops) is deprecated and will be removed in a future version.\n",
      "Instructions for updating:\n",
      "Colocations handled automatically by placer.\n",
      "_________________________________________________________________\n",
      "Layer (type)                 Output Shape              Param #   \n",
      "=================================================================\n",
      "embedding (Embedding)        (None, None, 16)          160000    \n",
      "_________________________________________________________________\n",
      "global_average_pooling1d (Gl (None, 16)                0         \n",
      "_________________________________________________________________\n",
      "dense (Dense)                (None, 16)                272       \n",
      "_________________________________________________________________\n",
      "dense_1 (Dense)              (None, 1)                 17        \n",
      "=================================================================\n",
      "Total params: 160,289\n",
      "Trainable params: 160,289\n",
      "Non-trainable params: 0\n",
      "_________________________________________________________________\n"
     ]
    }
   ],
   "source": [
    "# 输入形状是用于电影评论的词汇数目（10,000 词）\n",
    "vocab_size = 10000\n",
    "\n",
    "model = keras.Sequential()\n",
    "model.add(keras.layers.Embedding(vocab_size, 16))\n",
    "model.add(keras.layers.GlobalAveragePooling1D())\n",
    "model.add(keras.layers.Dense(16, activation='relu'))\n",
    "model.add(keras.layers.Dense(1, activation='sigmoid'))\n",
    "\n",
    "model.summary()"
   ]
  },
  {
   "cell_type": "code",
   "execution_count": 14,
   "metadata": {},
   "outputs": [],
   "source": [
    "model.compile(optimizer='adam',\n",
    "              loss='binary_crossentropy',\n",
    "              metrics=['accuracy'])"
   ]
  },
  {
   "cell_type": "code",
   "execution_count": 15,
   "metadata": {},
   "outputs": [],
   "source": [
    "x_val = train_data[:10000]\n",
    "partial_x_train = train_data[10000:]\n",
    "\n",
    "y_val = train_labels[:10000]\n",
    "partial_y_train = train_labels[10000:]"
   ]
  },
  {
   "cell_type": "code",
   "execution_count": 16,
   "metadata": {},
   "outputs": [
    {
     "name": "stdout",
     "output_type": "stream",
     "text": [
      "Train on 15000 samples, validate on 10000 samples\n",
      "WARNING:tensorflow:From /Users/yingzhong/anaconda3/lib/python3.6/site-packages/tensorflow/python/ops/math_ops.py:3066: to_int32 (from tensorflow.python.ops.math_ops) is deprecated and will be removed in a future version.\n",
      "Instructions for updating:\n",
      "Use tf.cast instead.\n",
      "Epoch 1/40\n",
      "15000/15000 [==============================] - 5s 340us/sample - loss: 0.6921 - acc: 0.5079 - val_loss: 0.6907 - val_acc: 0.5054\n",
      "Epoch 2/40\n",
      "15000/15000 [==============================] - 4s 257us/sample - loss: 0.6877 - acc: 0.6004 - val_loss: 0.6848 - val_acc: 0.6466\n",
      "Epoch 3/40\n",
      "15000/15000 [==============================] - 4s 253us/sample - loss: 0.6784 - acc: 0.6913 - val_loss: 0.6731 - val_acc: 0.7249\n",
      "Epoch 4/40\n",
      "15000/15000 [==============================] - 4s 249us/sample - loss: 0.6616 - acc: 0.7229 - val_loss: 0.6534 - val_acc: 0.7599\n",
      "Epoch 5/40\n",
      "15000/15000 [==============================] - 4s 246us/sample - loss: 0.6355 - acc: 0.7729 - val_loss: 0.6255 - val_acc: 0.7751\n",
      "Epoch 6/40\n",
      "15000/15000 [==============================] - 4s 255us/sample - loss: 0.6007 - acc: 0.8000 - val_loss: 0.5908 - val_acc: 0.7871\n",
      "Epoch 7/40\n",
      "15000/15000 [==============================] - 4s 249us/sample - loss: 0.5593 - acc: 0.8159 - val_loss: 0.5508 - val_acc: 0.8091\n",
      "Epoch 8/40\n",
      "15000/15000 [==============================] - 4s 247us/sample - loss: 0.5153 - acc: 0.8355 - val_loss: 0.5113 - val_acc: 0.8237\n",
      "Epoch 9/40\n",
      "15000/15000 [==============================] - 4s 257us/sample - loss: 0.4720 - acc: 0.8498 - val_loss: 0.4734 - val_acc: 0.8369\n",
      "Epoch 10/40\n",
      "15000/15000 [==============================] - 4s 259us/sample - loss: 0.4318 - acc: 0.8636 - val_loss: 0.4404 - val_acc: 0.8443\n",
      "Epoch 11/40\n",
      "15000/15000 [==============================] - 4s 267us/sample - loss: 0.3965 - acc: 0.8729 - val_loss: 0.4119 - val_acc: 0.8524\n",
      "Epoch 12/40\n",
      "15000/15000 [==============================] - 4s 260us/sample - loss: 0.3660 - acc: 0.8818 - val_loss: 0.3899 - val_acc: 0.8552\n",
      "Epoch 13/40\n",
      "15000/15000 [==============================] - 4s 255us/sample - loss: 0.3408 - acc: 0.8887 - val_loss: 0.3695 - val_acc: 0.8626\n",
      "Epoch 14/40\n",
      "15000/15000 [==============================] - 4s 257us/sample - loss: 0.3182 - acc: 0.8947 - val_loss: 0.3547 - val_acc: 0.8667\n",
      "Epoch 15/40\n",
      "15000/15000 [==============================] - 4s 257us/sample - loss: 0.2996 - acc: 0.8989 - val_loss: 0.3419 - val_acc: 0.8704\n",
      "Epoch 16/40\n",
      "15000/15000 [==============================] - 4s 250us/sample - loss: 0.2829 - acc: 0.9046 - val_loss: 0.3316 - val_acc: 0.8715\n",
      "Epoch 17/40\n",
      "15000/15000 [==============================] - 4s 250us/sample - loss: 0.2678 - acc: 0.9088 - val_loss: 0.3229 - val_acc: 0.8737\n",
      "Epoch 18/40\n",
      "15000/15000 [==============================] - 4s 254us/sample - loss: 0.2544 - acc: 0.9132 - val_loss: 0.3151 - val_acc: 0.8779\n",
      "Epoch 19/40\n",
      "15000/15000 [==============================] - 4s 262us/sample - loss: 0.2424 - acc: 0.9167 - val_loss: 0.3089 - val_acc: 0.8788\n",
      "Epoch 20/40\n",
      "15000/15000 [==============================] - 4s 252us/sample - loss: 0.2316 - acc: 0.9207 - val_loss: 0.3045 - val_acc: 0.8803\n",
      "Epoch 21/40\n",
      "15000/15000 [==============================] - 4s 257us/sample - loss: 0.2209 - acc: 0.9251 - val_loss: 0.3005 - val_acc: 0.8796\n",
      "Epoch 22/40\n",
      "15000/15000 [==============================] - 4s 261us/sample - loss: 0.2115 - acc: 0.9273 - val_loss: 0.2961 - val_acc: 0.8834\n",
      "Epoch 23/40\n",
      "15000/15000 [==============================] - 4s 255us/sample - loss: 0.2020 - acc: 0.9305 - val_loss: 0.2940 - val_acc: 0.8827\n",
      "Epoch 24/40\n",
      "15000/15000 [==============================] - 4s 254us/sample - loss: 0.1937 - acc: 0.9341 - val_loss: 0.2915 - val_acc: 0.8835\n",
      "Epoch 25/40\n",
      "15000/15000 [==============================] - 4s 257us/sample - loss: 0.1853 - acc: 0.9385 - val_loss: 0.2889 - val_acc: 0.8840\n",
      "Epoch 26/40\n",
      "15000/15000 [==============================] - 4s 253us/sample - loss: 0.1778 - acc: 0.9405 - val_loss: 0.2888 - val_acc: 0.8842\n",
      "Epoch 27/40\n",
      "15000/15000 [==============================] - 4s 263us/sample - loss: 0.1706 - acc: 0.9447 - val_loss: 0.2873 - val_acc: 0.8848\n",
      "Epoch 28/40\n",
      "15000/15000 [==============================] - 4s 255us/sample - loss: 0.1638 - acc: 0.9478 - val_loss: 0.2872 - val_acc: 0.8850\n",
      "Epoch 29/40\n",
      "15000/15000 [==============================] - 4s 253us/sample - loss: 0.1580 - acc: 0.9507 - val_loss: 0.2877 - val_acc: 0.8844\n",
      "Epoch 30/40\n",
      "15000/15000 [==============================] - 4s 263us/sample - loss: 0.1518 - acc: 0.9523 - val_loss: 0.2867 - val_acc: 0.8849\n",
      "Epoch 31/40\n",
      "15000/15000 [==============================] - 4s 255us/sample - loss: 0.1456 - acc: 0.9554 - val_loss: 0.2871 - val_acc: 0.8855\n",
      "Epoch 32/40\n",
      "15000/15000 [==============================] - 4s 254us/sample - loss: 0.1400 - acc: 0.9579 - val_loss: 0.2879 - val_acc: 0.8861\n",
      "Epoch 33/40\n",
      "15000/15000 [==============================] - 4s 255us/sample - loss: 0.1345 - acc: 0.9586 - val_loss: 0.2896 - val_acc: 0.8858\n",
      "Epoch 34/40\n",
      "15000/15000 [==============================] - 4s 245us/sample - loss: 0.1297 - acc: 0.9616 - val_loss: 0.2911 - val_acc: 0.8845\n",
      "Epoch 35/40\n",
      "15000/15000 [==============================] - 4s 257us/sample - loss: 0.1254 - acc: 0.9622 - val_loss: 0.2925 - val_acc: 0.8867\n",
      "Epoch 36/40\n",
      "15000/15000 [==============================] - 4s 258us/sample - loss: 0.1205 - acc: 0.9653 - val_loss: 0.2940 - val_acc: 0.8861\n",
      "Epoch 37/40\n",
      "15000/15000 [==============================] - 4s 246us/sample - loss: 0.1158 - acc: 0.9669 - val_loss: 0.2963 - val_acc: 0.8854\n",
      "Epoch 38/40\n",
      "15000/15000 [==============================] - 4s 257us/sample - loss: 0.1116 - acc: 0.9686 - val_loss: 0.2991 - val_acc: 0.8841\n",
      "Epoch 39/40\n",
      "15000/15000 [==============================] - 4s 248us/sample - loss: 0.1082 - acc: 0.9691 - val_loss: 0.3021 - val_acc: 0.8843\n",
      "Epoch 40/40\n",
      "15000/15000 [==============================] - 4s 244us/sample - loss: 0.1039 - acc: 0.9716 - val_loss: 0.3042 - val_acc: 0.8846\n"
     ]
    }
   ],
   "source": [
    "history = model.fit(partial_x_train,\n",
    "                    partial_y_train,\n",
    "                    epochs=40,\n",
    "                    batch_size=512,\n",
    "                    validation_data=(x_val, y_val),\n",
    "                    verbose=1)"
   ]
  },
  {
   "cell_type": "code",
   "execution_count": 17,
   "metadata": {},
   "outputs": [
    {
     "name": "stdout",
     "output_type": "stream",
     "text": [
      " - 1s - loss: 0.3236 - acc: 0.8726\n",
      "[0.3236355085849762, 0.87264]\n"
     ]
    }
   ],
   "source": [
    "results = model.evaluate(test_data,  test_labels, verbose=2)\n",
    "\n",
    "print(results)"
   ]
  },
  {
   "cell_type": "code",
   "execution_count": 18,
   "metadata": {},
   "outputs": [
    {
     "data": {
      "text/plain": [
       "dict_keys(['loss', 'acc', 'val_loss', 'val_acc'])"
      ]
     },
     "execution_count": 18,
     "metadata": {},
     "output_type": "execute_result"
    }
   ],
   "source": [
    "history_dict = history.history\n",
    "history_dict.keys()"
   ]
  },
  {
   "cell_type": "code",
   "execution_count": null,
   "metadata": {},
   "outputs": [],
   "source": [
    "import matplotlib.pyplot as plt\n",
    "\n",
    "acc = history_dict['acc']\n",
    "val_acc = history_dict['val_acc']\n",
    "loss = history_dict['loss']\n",
    "val_loss = history_dict['val_loss']\n",
    "\n",
    "epochs = range(1, len(acc) + 1)\n",
    "\n",
    "# “bo”代表 \"蓝点\"\n",
    "plt.plot(epochs, loss, 'bo', label='Training loss')\n",
    "# b代表“蓝色实线”\n",
    "plt.plot(epochs, val_loss, 'b', label='Validation loss')\n",
    "plt.title('Training and validation loss')\n",
    "plt.xlabel('Epochs')\n",
    "plt.ylabel('Loss')\n",
    "plt.legend()\n",
    "\n",
    "plt.show()"
   ]
  },
  {
   "cell_type": "code",
   "execution_count": null,
   "metadata": {},
   "outputs": [],
   "source": [
    "plt.clf()   # 清除数字\n",
    "\n",
    "plt.plot(epochs, acc, 'bo', label='Training acc')\n",
    "plt.plot(epochs, val_acc, 'b', label='Validation acc')\n",
    "plt.title('Training and validation accuracy')\n",
    "plt.xlabel('Epochs')\n",
    "plt.ylabel('Accuracy')\n",
    "plt.legend()\n",
    "\n",
    "plt.show()"
   ]
  },
  {
   "cell_type": "code",
   "execution_count": null,
   "metadata": {},
   "outputs": [],
   "source": []
  },
  {
   "cell_type": "code",
   "execution_count": null,
   "metadata": {},
   "outputs": [],
   "source": []
  },
  {
   "cell_type": "code",
   "execution_count": null,
   "metadata": {},
   "outputs": [],
   "source": []
  },
  {
   "cell_type": "code",
   "execution_count": null,
   "metadata": {},
   "outputs": [],
   "source": []
  }
 ],
 "metadata": {
  "kernelspec": {
   "display_name": "Python 3",
   "language": "python",
   "name": "python3"
  },
  "language_info": {
   "codemirror_mode": {
    "name": "ipython",
    "version": 3
   },
   "file_extension": ".py",
   "mimetype": "text/x-python",
   "name": "python",
   "nbconvert_exporter": "python",
   "pygments_lexer": "ipython3",
   "version": "3.6.4"
  }
 },
 "nbformat": 4,
 "nbformat_minor": 2
}
